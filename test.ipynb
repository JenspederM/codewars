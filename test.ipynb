{
 "metadata": {
  "language_info": {
   "codemirror_mode": {
    "name": "ipython",
    "version": 3
   },
   "file_extension": ".py",
   "mimetype": "text/x-python",
   "name": "python",
   "nbconvert_exporter": "python",
   "pygments_lexer": "ipython3",
   "version": "3.8.5-final"
  },
  "orig_nbformat": 2,
  "kernelspec": {
   "name": "pycharm-5092868e",
   "display_name": "Python 3.8.5 64-bit"
  }
 },
 "nbformat": 4,
 "nbformat_minor": 2,
 "cells": [
  {
   "cell_type": "code",
   "execution_count": 1,
   "metadata": {},
   "outputs": [
    {
     "output_type": "execute_result",
     "data": {
      "text/plain": [
       "['Board',\n",
       " 'combine_to_test.py',\n",
       " 'main.py',\n",
       " 'Monsters',\n",
       " 'TowerDefence.py',\n",
       " 'Turrets',\n",
       " '__init__.py']"
      ]
     },
     "metadata": {},
     "execution_count": 1
    }
   ],
   "source": [
    "import os\n",
    "\n",
    "[\n",
    "    ['Documentation'],\n",
    "    ['Documentation', 'Folder1', 'File1'],\n",
    "    ['Documentation', 'Folder1', 'File2'],\n",
    "    ['Documentation', 'Folder1', 'File3'],\n",
    "    ['Documentation', 'Folder1', 'File4'],\n",
    "    ['Documentation', 'Folder1', 'SubFolder1', 'File1'],\n",
    "    ['Documentation', 'Folder2', 'SubFolder1', 'File1'],\n",
    "    ['Documentation', 'Folder2', 'SubFolder2', 'File2'],\n",
    "    ['Documentation', 'Folder3', 'File1'],\n",
    "    ['Documentation', 'Folder3', 'File2'],\n",
    "    ['Documentation', 'Folder3', 'File3'],\n",
    "    ['Documentation', 'File1.md'],\n",
    "    ['Documentation', 'File2.md'],\n",
    "    ['Documentation', 'File3.md'],\n",
    "]\n",
    "\n",
    "       \n",
    "\n",
    "{'Documentation': {'Folder1': ['File1', 'File2'], \n",
    "'folder2': {'Subfolder1': ['File1'], 'Subfolder2': ['File2']}}}"
   ]
  }
 ]
}