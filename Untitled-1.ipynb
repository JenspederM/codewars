{
    "cells": [
        {
            "cell_type": "code",
            "execution_count": 1,
            "source": [
                "\n"
            ],
            "outputs": [
                {
                    "output_type": "execute_result",
                    "data": {
                        "text/plain": [
                            "[[1, 2, 3, 4, 5, 6, 7, 8, 9],\n",
                            " [1, 2, 3, 4, 5, 6, 7, 8, 9],\n",
                            " [1, 2, 3, 4, 5, 6, 7, 8, 9],\n",
                            " [1, 2, 3, 4, 5, 6, 7, 8, 9],\n",
                            " [1, 2, 3, 4, 5, 6, 7, 8, 9],\n",
                            " [1, 2, 3, 4, 5, 6, 7, 8, 9],\n",
                            " [1, 2, 3, 4, 5, 6, 7, 8, 9],\n",
                            " [1, 2, 3, 4, 5, 6, 7, 8, 9],\n",
                            " [1, 2, 3, 4, 5, 6, 7, 8, 9]]"
                        ]
                    },
                    "metadata": {},
                    "execution_count": 1
                }
            ],
            "metadata": {}
        },
        {
            "cell_type": "code",
            "execution_count": 29,
            "source": [
                "import math\n",
                "import numpy as np \n",
                "case = [[5,3,0,0,7,0,0,0,0],\n",
                "        [6,0,0,1,9,5,0,0,0],\n",
                "        [0,9,8,0,0,0,0,6,0],\n",
                "        [8,0,0,0,6,0,0,0,3],\n",
                "        [4,0,0,8,0,3,0,0,1],\n",
                "        [7,0,0,0,2,0,0,0,6],\n",
                "        [0,6,0,0,0,0,2,8,0],\n",
                "        [0,0,0,4,1,9,0,0,5],\n",
                "        [0,0,0,0,8,0,0,7,9]]\n",
                "\n",
                "puzzle = np.asarray(case)\n",
                "puzzle_flat = puzzle.flatten() \n",
                "solution = puzzle_flat.copy()\n",
                "\n",
                "def is_allowed(v, grid, cell):\n",
                "    if i is not None:\n",
                "        allowed_row = v not in grid[i, :]\n",
                "        if j is None:\n",
                "            return allowed_row\n",
                "\n",
                "    if j is not None:\n",
                "        allowed_col = v not in grid[:, j]\n",
                "        if i is None:\n",
                "            return allowed_col\n",
                "\n",
                "    return allowed_row & allowed_col \n",
                "\n",
                "\n",
                "cell = 0\n",
                "value = 1\n",
                "\n",
                "print(f'Puzzle:\\n{puzzle.reshape((9, 9))}\\n\\n')\n",
                "\n",
                "\n",
                "\n",
                "             "
            ],
            "outputs": [
                {
                    "output_type": "stream",
                    "name": "stdout",
                    "text": [
                        "Puzzle:\n",
                        "[[5 3 0 0 7 0 0 0 0]\n",
                        " [6 0 0 1 9 5 0 0 0]\n",
                        " [0 9 8 0 0 0 0 6 0]\n",
                        " [8 0 0 0 6 0 0 0 3]\n",
                        " [4 0 0 8 0 3 0 0 1]\n",
                        " [7 0 0 0 2 0 0 0 6]\n",
                        " [0 6 0 0 0 0 2 8 0]\n",
                        " [0 0 0 4 1 9 0 0 5]\n",
                        " [0 0 0 0 8 0 0 7 9]]\n",
                        "\n",
                        "\n"
                    ]
                }
            ],
            "metadata": {}
        },
        {
            "cell_type": "code",
            "execution_count": 33,
            "source": [
                "def print_board(board):\n",
                "    for i in range(len(board)):\n",
                "        if i % 3 == 0 and i != 0:\n",
                "            print ('- ' * 13 + \" \")\n",
                "\n",
                "            for j in range(len(board[0])):\n",
                "                if j % 3 == 0:\n",
                "                    print(\" | \", end=\"\")\n",
                "                    \n",
                "                if j == 0:\n",
                "                    print(board[i][j])\n",
                "                else:\n",
                "                    print(str(board[i][j]) + \" \", end = \"\")\n",
                "\n",
                "print_board(puzzle) "
            ],
            "outputs": [
                {
                    "output_type": "stream",
                    "name": "stdout",
                    "text": [
                        "- - - - - - - - - - - - -  \n",
                        " | 8\n",
                        "0 0  | 0 6 0  | 0 0 3 - - - - - - - - - - - - -  \n",
                        " | 0\n",
                        "6 0  | 0 0 0  | 2 8 0 "
                    ]
                }
            ],
            "metadata": {}
        }
    ],
    "metadata": {
        "orig_nbformat": 4,
        "language_info": {
            "name": "python",
            "version": "3.8.5",
            "mimetype": "text/x-python",
            "codemirror_mode": {
                "name": "ipython",
                "version": 3
            },
            "pygments_lexer": "ipython3",
            "nbconvert_exporter": "python",
            "file_extension": ".py"
        },
        "kernelspec": {
            "name": "python3",
            "display_name": "Python 3.8.5 64-bit"
        },
        "interpreter": {
            "hash": "916dbcbb3f70747c44a77c7bcd40155683ae19c65e1c03b4aa3499c5328201f1"
        }
    },
    "nbformat": 4,
    "nbformat_minor": 2
}