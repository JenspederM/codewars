{
 "metadata": {
  "language_info": {
   "codemirror_mode": {
    "name": "ipython",
    "version": 3
   },
   "file_extension": ".py",
   "mimetype": "text/x-python",
   "name": "python",
   "nbconvert_exporter": "python",
   "pygments_lexer": "ipython3",
   "version": "3.8.5-final"
  },
  "orig_nbformat": 2,
  "kernelspec": {
   "name": "python3",
   "display_name": "Python 3.8.5 64-bit",
   "metadata": {
    "interpreter": {
     "hash": "12f5c96601b26da62d20185c7414849b20ab8366d912fbd31ce1ef687c2c73c3"
    }
   }
  }
 },
 "nbformat": 4,
 "nbformat_minor": 2,
 "cells": [
  {
   "source": [
    "Create a Circular List\n",
    "\n",
    "A circular list is of finite size, but can infititely be asked for its previous and next elements. This is because it acts like it is joined at the ends and loops around.\n",
    "\n",
    "For example, imagine a CircularList of [1, 2, 3, 4]. Five invocations of next() in a row should return 1, 2, 3, 4 and then 1 again. At this point, five invocations of prev() in a row should return 4, 3, 2, 1 and then 4 again.\n",
    "\n",
    "Your CircularList is created by passing a vargargs parameter in, e.g. new CircularList(1, 2, 3). Your list constructor/init code should throw an Exception if nothing is passed in.\n"
   ],
   "cell_type": "markdown",
   "metadata": {}
  },
  {
   "cell_type": "code",
   "execution_count": 5,
   "metadata": {},
   "outputs": [],
   "source": [
    "class CircularList():\n",
    "    def __init__(self, *args):\n",
    "        self.l = list(args)\n",
    "        self.pos = 0\n",
    "        self.n = len(args)\n",
    "\n",
    "    def next(self):\n",
    "        self.pos += 1\n",
    "\n",
    "        if self.pos > self.n:\n",
    "            self.pos = 0\n",
    "\n",
    "        return self.l[self.pos - 1]\n",
    "\n",
    "    def prev(self):\n",
    "        self.pos -= 1\n",
    "\n",
    "        if self.pos < 0:\n",
    "            self.pos = self.n\n",
    "\n",
    "        return self.l[self.pos - 1]\n",
    "\n"
   ]
  },
  {
   "cell_type": "code",
   "execution_count": 6,
   "metadata": {},
   "outputs": [
    {
     "output_type": "stream",
     "name": "stdout",
     "text": [
      "True\nTrue\nTrue\nTrue\nTrue\nTrue\nTrue\nTrue\n"
     ]
    }
   ],
   "source": [
    "def test_case():\n",
    "    list = CircularList(\"one\", \"two\", \"three\")\n",
    "    print(list.next() == \"one\")\n",
    "    print(list.next() == \"two\")\n",
    "    print(list.next() == \"three\")\n",
    "    print(list.next() == \"one\")\n",
    "    print(list.prev() == \"three\")\n",
    "    print(list.prev() == \"two\")\n",
    "    print(list.prev() == \"one\")\n",
    "    print(list.prev() == \"three\")\n",
    "\n",
    "test_case()"
   ]
  },
  {
   "cell_type": "code",
   "execution_count": null,
   "metadata": {},
   "outputs": [],
   "source": []
  }
 ]
}